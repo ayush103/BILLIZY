{
 "cells": [
  {
   "cell_type": "code",
   "execution_count": 1,
   "metadata": {},
   "outputs": [
    {
     "name": "stdout",
     "output_type": "stream",
     "text": [
      "Requirement already satisfied: pillow in c:\\anaconda\\lib\\site-packages (5.3.0)\n",
      "Requirement already satisfied: pytesseract in c:\\anaconda\\lib\\site-packages (0.2.6)\n",
      "Requirement already satisfied: Pillow in c:\\anaconda\\lib\\site-packages (from pytesseract) (5.3.0)\n",
      "Requirement already satisfied: opencv-python in c:\\anaconda\\lib\\site-packages (4.0.0.21)\n",
      "Requirement already satisfied: numpy>=1.14.5 in c:\\anaconda\\lib\\site-packages (from opencv-python) (1.15.4)\n",
      "Requirement already satisfied: pdf2image in c:\\anaconda\\lib\\site-packages (1.4.2)\n",
      "Requirement already satisfied: pillow in c:\\anaconda\\lib\\site-packages (from pdf2image) (5.3.0)\n"
     ]
    }
   ],
   "source": [
    "# Download tesseract-ocr file for system installation:\n",
    "#        https://digi.bib.uni-mannheim.de/tesseract/tesseract-ocr-setup-3.05.00dev.exe\n",
    "#        - download the above exe and run it\n",
    "#        - while installing the setup will ask to download additional languages\n",
    "#          (if you want to process images in different languages also like French, etc.) - by default english is there\n",
    "\n",
    "!pip install pillow\n",
    "!pip install pytesseract\n",
    "!pip install opencv-python\n",
    "!pip install pdf2image"
   ]
  },
  {
   "cell_type": "code",
   "execution_count": 7,
   "metadata": {},
   "outputs": [
    {
     "name": "stdout",
     "output_type": "stream",
     "text": [
      "Temporary File: 7528.png\n",
      "Temporary File: 7528.png\n",
      "Temporary File: 7528.png\n",
      "Temporary File: 7528.png\n",
      "Temporary File: 7528.png\n",
      "Temporary File: 7528.png\n"
     ]
    }
   ],
   "source": [
    "# import the necessary packages\n",
    "from PIL import Image\n",
    "import pytesseract\n",
    "import argparse\n",
    "import cv2\n",
    "import os\n",
    "import glob\n",
    "\n",
    "L_jpg=glob.glob(\"C://Users//Acer//Desktop//ocr//downloaded_attachments//*.jpg\")\n",
    "L_png=glob.glob(\"C://Users//Acer//Desktop//ocr//downloaded_attachments//*.png\")\n",
    "L_jpg.extend(L_png)\n",
    "pytesseract.pytesseract.tesseract_cmd = r'C:\\Program Files (x86)\\Tesseract-OCR\\tesseract'\n",
    "\n",
    "# --------------- load --------------\n",
    "c=2\n",
    "while c:\n",
    "    f=open('output.txt','w')\n",
    "    for img in L_jpg:\n",
    "        image = cv2.imread(img)\n",
    "        gray = cv2.cvtColor(image, cv2.COLOR_BGR2GRAY)\n",
    "        # ---------------------------------------\n",
    "\n",
    "        # ---------------- preprocess ------------------\n",
    "        # check to see if we should apply thresholding to preprocess the\n",
    "        # image\n",
    "        pre=[\"thresh\",\"blur\"]\n",
    "        sel_pre=pre[0]\n",
    "        if sel_pre == \"thresh\":\n",
    "            gray = cv2.threshold(gray, 0, 255,\n",
    "                cv2.THRESH_BINARY | cv2.THRESH_OTSU)[1]\n",
    "\n",
    "        # make a check to see if median blurring should be done to remove noise\n",
    "        elif sel_pre == \"blur\":\n",
    "            gray = cv2.medianBlur(gray, 3)\n",
    "\n",
    "        # write the grayscale image to disk as a temporary file so we can\n",
    "        # apply OCR to it\n",
    "        filename = \"{}.png\".format(os.getpid())\n",
    "        cv2.imwrite(filename, gray)\n",
    "        # ---------------------------------------\n",
    "        print('Temporary File:',filename)\n",
    "        # ---------------- OCR ------------------\n",
    "        # load the image as a PIL/Pillow image, apply OCR, and then delete\n",
    "        # the temporary file\n",
    "        text = pytesseract.image_to_string(Image.open(filename))\n",
    "        os.remove(filename)\n",
    "\n",
    "        # ------------ json -------------------\n",
    "\n",
    "        texts=text.replace(' ','').split('\\n')\n",
    "        tt=text.lower()\n",
    "        if 'order' in tt:\n",
    "            doctype=\"PO\"\n",
    "            f.write(\"#PurchaseOrder\\n\")\n",
    "        #     print(\"order\")\n",
    "        elif 'invoice' in tt:\n",
    "            doctype=\"INVOICE\"\n",
    "            f.write(\"#Invoice\\n\")\n",
    "        #     print(\"invoice\")\n",
    "\n",
    "        data=[]\n",
    "        for i in texts:\n",
    "            if i!='':\n",
    "                data.append(i)\n",
    "        json=\"{\\n\"\n",
    "        json+=\"\\t\\\"doctype\\\":\\\"\"+doctype+\"\\\",\\n\"\n",
    "        for i in data:\n",
    "            x=i.split(':')\n",
    "            if len(x)>1:\n",
    "                json+=\"\\t\\\"\"+x[0]+\"\\\":\\\"\"+' '.join(x[1:])+\"\\\",\\n\"\n",
    "        json+=\"}\"\n",
    "       # print(json)\n",
    "        f.write(json+'\\r\\n')\n",
    "    c-=1\n"
   ]
  },
  {
   "cell_type": "code",
   "execution_count": 2,
   "metadata": {},
   "outputs": [
    {
     "name": "stdout",
     "output_type": "stream",
     "text": [
      "Enter gmail id: vaishwiksanghavi@gmail.com\n",
      "Enter password: Kingfisher20000@\n",
      "Fetching mail: 1\n"
     ]
    },
    {
     "ename": "AttributeError",
     "evalue": "'bytes' object has no attribute 'message_from_strings'",
     "output_type": "error",
     "traceback": [
      "\u001b[1;31m---------------------------------------------------------------------------\u001b[0m",
      "\u001b[1;31mAttributeError\u001b[0m                            Traceback (most recent call last)",
      "\u001b[1;32m<ipython-input-2-507bb4ee79c8>\u001b[0m in \u001b[0;36m<module>\u001b[1;34m\u001b[0m\n\u001b[0;32m     43\u001b[0m     \u001b[1;31m# print(raw_email)\u001b[0m\u001b[1;33m\u001b[0m\u001b[1;33m\u001b[0m\u001b[1;33m\u001b[0m\u001b[0m\n\u001b[0;32m     44\u001b[0m     \u001b[1;31m# --------------------- formatting ------------ #\u001b[0m\u001b[1;33m\u001b[0m\u001b[1;33m\u001b[0m\u001b[1;33m\u001b[0m\u001b[0m\n\u001b[1;32m---> 45\u001b[1;33m     \u001b[0memail_message\u001b[0m \u001b[1;33m=\u001b[0m \u001b[0memail\u001b[0m\u001b[1;33m.\u001b[0m\u001b[0mmessage_from_strings\u001b[0m\u001b[1;33m(\u001b[0m\u001b[0mraw_email\u001b[0m\u001b[1;33m)\u001b[0m\u001b[1;33m\u001b[0m\u001b[1;33m\u001b[0m\u001b[0m\n\u001b[0m\u001b[0;32m     46\u001b[0m     \u001b[0mprint\u001b[0m \u001b[1;33m(\u001b[0m\u001b[1;34m'\\tTo'\u001b[0m\u001b[1;33m,\u001b[0m\u001b[0memail_message\u001b[0m\u001b[1;33m[\u001b[0m\u001b[1;34m'To'\u001b[0m\u001b[1;33m]\u001b[0m\u001b[1;33m)\u001b[0m\u001b[1;33m\u001b[0m\u001b[1;33m\u001b[0m\u001b[0m\n\u001b[0;32m     47\u001b[0m     \u001b[0mprint\u001b[0m \u001b[1;33m(\u001b[0m\u001b[1;34m'\\tFrom'\u001b[0m\u001b[1;33m,\u001b[0m\u001b[0memail\u001b[0m\u001b[1;33m.\u001b[0m\u001b[0mutils\u001b[0m\u001b[1;33m.\u001b[0m\u001b[0mparseaddr\u001b[0m\u001b[1;33m(\u001b[0m\u001b[0memail_message\u001b[0m\u001b[1;33m[\u001b[0m\u001b[1;34m'From'\u001b[0m\u001b[1;33m]\u001b[0m\u001b[1;33m)\u001b[0m \u001b[1;33m)\u001b[0m\u001b[1;31m# for parsing \"Yuji Tomita\" <yuji@grovemade.com>\u001b[0m\u001b[1;33m\u001b[0m\u001b[1;33m\u001b[0m\u001b[0m\n",
      "\u001b[1;31mAttributeError\u001b[0m: 'bytes' object has no attribute 'message_from_strings'"
     ]
    }
   ],
   "source": [
    "import imaplib,email\n",
    "user=input('Enter gmail id: ')\n",
    "password=input('Enter password: ')\n",
    "imap_url = 'imap.gmail.com'\n",
    "\n",
    "attachment_dir = 'downloaded_attachments'\n",
    "import os\n",
    "if not os.path.exists(attachment_dir):\n",
    "    os.makedirs(attachment_dir)\n",
    "\n",
    "mail = imaplib.IMAP4_SSL(imap_url)\n",
    "mail.login(user, password)\n",
    "mail.list()\n",
    "# Out: list of \"folders\" aka labels in gmail.\n",
    "mail.select(\"inbox\") # connect to inbox.\n",
    "\n",
    "# -------------------------------------------- #\n",
    "# allows you to download attachments\n",
    "def get_attachments(msg):\n",
    "    for part in msg.walk():\n",
    "        if part.get_content_maintype()=='multipart':\n",
    "            continue\n",
    "        if part.get('Content-Disposition') is None:\n",
    "            continue\n",
    "        fileName = part.get_filename()\n",
    "        if bool(fileName):\n",
    "            filePath = os.path.join(attachment_dir, fileName)\n",
    "            with open(filePath,'wb') as f:\n",
    "                f.write(part.get_payload(decode=True))\n",
    "\n",
    "\n",
    "result, data = mail.uid('search', None, \"ALL\") # search and return uids instead\n",
    "last_50_ids = data[0].split()[-10:-1]#-50:0][::-1]\n",
    "latest_id = data[0].split()[-1]\n",
    "last_50_ids.append(latest_id)\n",
    "# print(last_50_ids)\n",
    "last_50_ids=last_50_ids[::-1]\n",
    "c=1\n",
    "for i in last_50_ids:\n",
    "    print ('Fetching mail:',c)\n",
    "    result, data = mail.uid('fetch', i, '(RFC822)')\n",
    "    raw_email = data[0][1]\n",
    "    # print(raw_email)\n",
    "    # --------------------- formatting ------------ #\n",
    "    email_message = email.message_from_bytes(raw_email)\n",
    "    print ('\\tTo',email_message['To'])\n",
    "    print ('\\tFrom',email.utils.parseaddr(email_message['From']) )# for parsing \"Yuji Tomita\" <yuji@grovemade.com>\n",
    "    # print (email_message.items()) # print all headers\n",
    "     # --------------------------------------------------- #\n",
    "    get_attachments(email_message)\n",
    "    print('\\tDowloaded attachments for this mail !')\n",
    "    c+=1\n"
   ]
  },
  {
   "cell_type": "code",
   "execution_count": null,
   "metadata": {},
   "outputs": [],
   "source": []
  },
  {
   "cell_type": "code",
   "execution_count": null,
   "metadata": {},
   "outputs": [],
   "source": []
  }
 ],
 "metadata": {
  "kernelspec": {
   "display_name": "Python 3",
   "language": "python",
   "name": "python3"
  },
  "language_info": {
   "codemirror_mode": {
    "name": "ipython",
    "version": 3
   },
   "file_extension": ".py",
   "mimetype": "text/x-python",
   "name": "python",
   "nbconvert_exporter": "python",
   "pygments_lexer": "ipython3",
   "version": "3.7.1"
  }
 },
 "nbformat": 4,
 "nbformat_minor": 2
}
